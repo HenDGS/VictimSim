{
 "cells": [
  {
   "cell_type": "code",
   "execution_count": 1,
   "id": "initial_id",
   "metadata": {
    "collapsed": true,
    "ExecuteTime": {
     "end_time": "2023-11-30T02:17:09.836184500Z",
     "start_time": "2023-11-30T02:17:07.019101500Z"
    }
   },
   "outputs": [
    {
     "name": "stdout",
     "output_type": "stream",
     "text": [
      "Model 1 RMSE: 9.921873278319127\n",
      "Model 2 RMSE: 15.739936877374248\n",
      "Model 3 RMSE: 6.65691186389181\n",
      "Best model RMSE: 6.65691186389181\n"
     ]
    },
    {
     "name": "stderr",
     "output_type": "stream",
     "text": [
      "C:\\Users\\henri\\PycharmProjects\\VictimSim\\venv\\Lib\\site-packages\\sklearn\\neural_network\\_multilayer_perceptron.py:691: ConvergenceWarning: Stochastic Optimizer: Maximum iterations (200) reached and the optimization hasn't converged yet.\n",
      "  warnings.warn(\n"
     ]
    }
   ],
   "source": [
    "import pandas as pd\n",
    "from sklearn.model_selection import train_test_split\n",
    "from sklearn.neural_network import MLPRegressor\n",
    "from sklearn.metrics import mean_squared_error\n",
    "import numpy as np\n",
    "\n",
    "df = pd.read_csv('sinais_vitais_com_label_treino.txt', sep=',', header=0)\n",
    "X = df.iloc[:, 2:6]\n",
    "y = df.iloc[:, 6]\n",
    "\n",
    "model1 = MLPRegressor(hidden_layer_sizes=(50,), activation='relu', solver='adam', learning_rate_init=0.01, max_iter=200)\n",
    "model2 = MLPRegressor(hidden_layer_sizes=(100,), activation='logistic', solver='sgd', learning_rate_init=0.01, max_iter=200)\n",
    "model3 = MLPRegressor(hidden_layer_sizes=(50, 50), activation='tanh', solver='adam', learning_rate_init=0.01, max_iter=200)\n",
    "\n",
    "best_model = None\n",
    "best_rmse = None\n",
    "\n",
    "models = [model1, model2, model3]\n",
    "for i, model in enumerate(models, start=1):\n",
    "    model.fit(X, y)\n",
    "    predictions = model.predict(X)\n",
    "    rmse = np.sqrt(mean_squared_error(y, predictions))\n",
    "    print(f'Model {i} RMSE: {rmse}')\n",
    "    if best_model is None or rmse < best_rmse:\n",
    "            best_rmse = rmse\n",
    "            best_model = model\n",
    "\n",
    "print(f'Best model RMSE: {best_rmse}')\n",
    "\n",
    "blind_test_data = pd.read_csv('sinais_vitais_validacao.txt', sep=',', header=0)\n",
    "X_blind_test = blind_test_data.iloc[:, 2:6]\n",
    "\n",
    "blind_test_predictions = best_model.predict(X_blind_test)\n",
    "\n",
    "pd.DataFrame(blind_test_predictions).to_csv('predictions.csv', index=False, header=False)"
   ]
  },
  {
   "cell_type": "code",
   "execution_count": null,
   "outputs": [],
   "source": [],
   "metadata": {
    "collapsed": false
   },
   "id": "266be9537dd8502f"
  }
 ],
 "metadata": {
  "kernelspec": {
   "display_name": "Python 3",
   "language": "python",
   "name": "python3"
  },
  "language_info": {
   "codemirror_mode": {
    "name": "ipython",
    "version": 2
   },
   "file_extension": ".py",
   "mimetype": "text/x-python",
   "name": "python",
   "nbconvert_exporter": "python",
   "pygments_lexer": "ipython2",
   "version": "2.7.6"
  }
 },
 "nbformat": 4,
 "nbformat_minor": 5
}
