{
 "cells": [
  {
   "cell_type": "code",
   "execution_count": 75,
   "id": "initial_id",
   "metadata": {
    "collapsed": true,
    "ExecuteTime": {
     "end_time": "2023-12-06T06:39:27.122581700Z",
     "start_time": "2023-12-06T06:39:20.471414900Z"
    }
   },
   "outputs": [
    {
     "name": "stdout",
     "output_type": "stream",
     "text": [
      "Model 1 RMSE: 10.119121343170201\n",
      "Model 2 RMSE: 15.592283939951747\n",
      "Model 3 RMSE: 8.138035793298377\n",
      "Model 4 RMSE: 6.472204138162716\n",
      "Model 5 RMSE: 6.330211733528322\n",
      "Model 6 RMSE: 12.10917024281959\n",
      "Best model RMSE: 6.330211733528322\n"
     ]
    }
   ],
   "source": [
    "import pandas as pd\n",
    "from sklearn.model_selection import train_test_split\n",
    "from sklearn.neural_network import MLPRegressor\n",
    "from sklearn.metrics import mean_squared_error\n",
    "import numpy as np\n",
    "\n",
    "df = pd.read_csv('sinais_vitais_com_label_treino.txt', sep=',', header=0)\n",
    "X = df.iloc[:, 2:6]\n",
    "y = df.iloc[:, 6]\n",
    "\n",
    "model1 = MLPRegressor(hidden_layer_sizes=(50,), activation='relu', solver='adam', learning_rate_init=0.01, max_iter=500)\n",
    "model2 = MLPRegressor(hidden_layer_sizes=(100,), activation='logistic', solver='sgd', learning_rate_init=0.01, max_iter=500)\n",
    "model3 = MLPRegressor(hidden_layer_sizes=(50, 50), activation='tanh', solver='adam', learning_rate_init=0.01, max_iter=500)\n",
    "model4 = MLPRegressor(hidden_layer_sizes = (50, 50), activation = 'tanh', solver = 'adam', max_iter = 500, learning_rate_init = 0.007)  \n",
    "model5 = MLPRegressor(hidden_layer_sizes = (50, 50), activation = 'tanh', solver = 'adam', max_iter = 1000, learning_rate_init = 0.002)  \n",
    "model6 = MLPRegressor(hidden_layer_sizes = (100,100,100), activation = 'tanh', solver = 'adam', max_iter = 1000, learning_rate_init = 0.002)  \n",
    "\n",
    "best_model = None\n",
    "best_rmse = None\n",
    "\n",
    "models = [model1, model2, model3, model4, model5, model6]\n",
    "for i, model in enumerate(models, start=1):\n",
    "    model.fit(X, y)\n",
    "    predictions = model.predict(X)\n",
    "    rmse = np.sqrt(mean_squared_error(y, predictions))\n",
    "    print(f'Model {i} RMSE: {rmse}')\n",
    "    if best_model is None or rmse < best_rmse:\n",
    "            best_rmse = rmse\n",
    "            best_model = model\n",
    "\n",
    "print(f'Best model RMSE: {best_rmse}')\n",
    "\n",
    "blind_test_data = pd.read_csv('sinais_vitais_validacao.txt', sep=',', header=0)\n",
    "X_blind_test = blind_test_data.iloc[:, 2:6]\n",
    "\n",
    "blind_test_predictions = best_model.predict(X_blind_test)\n",
    "\n",
    "pd.DataFrame(blind_test_predictions).to_csv('predictions.csv', index=False, header=False)"
   ]
  },
  {
   "cell_type": "code",
   "execution_count": 64,
   "outputs": [
    {
     "data": {
      "text/plain": "<Figure size 640x480 with 1 Axes>",
      "image/png": "[encoded data removed]"
     },
     "metadata": {},
     "output_type": "display_data"
    }
   ],
   "source": [
    "import matplotlib.pyplot as plt\n",
    "\n",
    "plt.plot(model1.loss_curve_, label='model5')\n",
    "plt.legend()\n",
    "plt.show()"
   ],
   "metadata": {
    "collapsed": false,
    "ExecuteTime": {
     "end_time": "2023-12-06T06:33:44.300608900Z",
     "start_time": "2023-12-06T06:33:44.183110Z"
    }
   },
   "id": "266be9537dd8502f"
  },
  {
   "cell_type": "code",
   "execution_count": 66,
   "outputs": [],
   "source": [
    "model5 = MLPRegressor(hidden_layer_sizes = (50, 50), activation = 'tanh', solver = 'adam', max_iter = 1000, learning_rate_init = 0.002)  "
   ],
   "metadata": {
    "collapsed": false,
    "ExecuteTime": {
     "end_time": "2023-12-06T06:34:13.101657100Z",
     "start_time": "2023-12-06T06:34:13.067138800Z"
    }
   },
   "id": "949094f74af8bb97"
  },
  {
   "cell_type": "code",
   "execution_count": 67,
   "outputs": [
    {
     "name": "stdout",
     "output_type": "stream",
     "text": [
      "[-65.62767962 -47.26763293 -44.97568062 -47.12833866 -59.12108657]\n",
      "[8.10109126 6.87514603 6.70639103 6.86500828 7.68902377]\n",
      "7.2473320737469065\n"
     ]
    }
   ],
   "source": [
    "from sklearn.model_selection import cross_val_score\n",
    "\n",
    "scores = cross_val_score(model5, X, y, cv=5, scoring='neg_mean_squared_error')\n",
    "print(scores)\n",
    "print(np.sqrt(-scores))\n",
    "print(np.mean(np.sqrt(-scores)))"
   ],
   "metadata": {
    "collapsed": false,
    "ExecuteTime": {
     "end_time": "2023-12-06T06:34:26.099991700Z",
     "start_time": "2023-12-06T06:34:13.261212400Z"
    }
   },
   "id": "cf7dc1c9d74cfb66"
  },
  {
   "cell_type": "code",
   "execution_count": 69,
   "outputs": [
    {
     "name": "stdout",
     "output_type": "stream",
     "text": [
      "Model 1 average RMSE: 11.7256474451187\n",
      "Model 2 average RMSE: 15.796054161409803\n",
      "Model 3 average RMSE: 13.268734120515884\n",
      "Model 4 average RMSE: 9.195370780766599\n",
      "Model 5 average RMSE: 8.013061723634413\n",
      "Best model average RMSE: 8.013061723634413\n"
     ]
    }
   ],
   "source": [
    "from sklearn.model_selection import cross_val_score\n",
    "\n",
    "models = [model1, model2, model3, model4, model5]\n",
    "best_model = None\n",
    "best_rmse = float('inf')\n",
    "\n",
    "for i, model in enumerate(models, start=1):\n",
    "    scores = cross_val_score(model, X, y, cv=5, scoring='neg_mean_squared_error')\n",
    "    rmse_scores = np.sqrt(-scores)\n",
    "    avg_rmse = np.mean(rmse_scores)\n",
    "    print(f'Model {i} average RMSE: {avg_rmse}')\n",
    "    if avg_rmse < best_rmse:\n",
    "        best_rmse = avg_rmse\n",
    "        best_model = model\n",
    "\n",
    "print(f'Best model average RMSE: {best_rmse}')"
   ],
   "metadata": {
    "collapsed": false,
    "ExecuteTime": {
     "end_time": "2023-12-06T06:35:03.884506200Z",
     "start_time": "2023-12-06T06:34:44.261467200Z"
    }
   },
   "id": "61ea90aa3894884d"
  },
  {
   "cell_type": "code",
   "execution_count": null,
   "outputs": [],
   "source": [],
   "metadata": {
    "collapsed": false
   },
   "id": "6102d702e4ff36c7"
  }
 ],
 "metadata": {
  "kernelspec": {
   "display_name": "Python 3",
   "language": "python",
   "name": "python3"
  },
  "language_info": {
   "codemirror_mode": {
    "name": "ipython",
    "version": 2
   },
   "file_extension": ".py",
   "mimetype": "text/x-python",
   "name": "python",
   "nbconvert_exporter": "python",
   "pygments_lexer": "ipython2",
   "version": "2.7.6"
  }
 },
 "nbformat": 4,
 "nbformat_minor": 5
}
